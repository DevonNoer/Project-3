{
 "cells": [
  {
   "cell_type": "code",
   "execution_count": null,
   "metadata": {},
   "outputs": [],
   "source": [
    "#importing dependecies\n",
    "import pandas as pd\n",
    "import janitor\n",
    "import datetime as dt\n",
    "\n",
    "# creating the dataframe with pyjanitor\n",
    "spotify_df = (\n",
    "    # reading data into dataframe\n",
    "    pd.read_csv(\"../Resources/Popular_Spotify_Songs.csv\", encoding='latin 1')\n",
    "\n",
    "    # dropping rows with na values\n",
    "    .dropna()\n",
    "\n",
    "    # renaming columns\n",
    "    .rename_column(\"track_name\", \"track\")\n",
    "    .rename_column(\"artist(s)_name\", \"artists\")\n",
    ")\n",
    "\n",
    "spotify_df"
   ]
  },
  {
   "cell_type": "code",
   "execution_count": null,
   "metadata": {},
   "outputs": [],
   "source": [
    "# combining year, month, and day into a single column\n",
    "spotify_df['date'] = pd.to_datetime(dict(year=spotify_df[\"released_year\"], month=spotify_df[\"released_month\"], day=spotify_df[\"released_day\"]))\n",
    "\n",
    "# dropping the old date columns\n",
    "spotify_df = spotify_df.drop(columns=[\"released_year\", \"released_month\", \"released_day\"])"
   ]
  },
  {
   "cell_type": "code",
   "execution_count": null,
   "metadata": {},
   "outputs": [],
   "source": [
    "# viewing current columns\n",
    "spotify_df.columns"
   ]
  },
  {
   "cell_type": "code",
   "execution_count": null,
   "metadata": {},
   "outputs": [],
   "source": [
    "# checking summary statistics\n",
    "spotify_df.describe()"
   ]
  },
  {
   "cell_type": "code",
   "execution_count": null,
   "metadata": {},
   "outputs": [],
   "source": [
    "# sorting by number of streams\n",
    "spofity_df = spotify_df.sort_values(\"streams\")\n",
    "spotify_df"
   ]
  },
  {
   "cell_type": "code",
   "execution_count": null,
   "metadata": {},
   "outputs": [],
   "source": [
    "# artists table\n",
    "artists_df = spotify_df[['track', 'artists', 'artist_count', 'streams']]\n",
    "artists_df.to_csv(\"../Outputs/artists_df.csv\")"
   ]
  },
  {
   "cell_type": "code",
   "execution_count": null,
   "metadata": {},
   "outputs": [],
   "source": [
    "# date table\n",
    "date_df = spotify_df[['track', 'date']]\n",
    "date_df = date_df.assign(date_id=range(len(date_df)))\n",
    "\n",
    "date_df = date_df.sort_values('date_id')\n",
    "date_df.set_index(\"date_id\")\n",
    "\n",
    "date_df.to_csv(\"../Outputs/date_df.csv\")"
   ]
  },
  {
   "cell_type": "code",
   "execution_count": null,
   "metadata": {},
   "outputs": [],
   "source": [
    "# music characteristics table\n",
    "music_df = spotify_df[['track', 'bpm', 'mode', 'key', 'danceability_%', 'valence_%', 'energy_%', 'acousticness_%', 'liveness_%', 'speechiness_%']]\n",
    "music_df = music_df.assign(music_id=range(len(music_df)))\n",
    "\n",
    "music_df = music_df.sort_values('music_id')\n",
    "music_df.set_index(\"music_id\")\n",
    "\n",
    "music_df.to_csv(\"../Outputs/music_char.csv\")"
   ]
  },
  {
   "cell_type": "code",
   "execution_count": null,
   "metadata": {},
   "outputs": [],
   "source": [
    "charts_df = spotify_df[['track', 'in_spotify_charts', 'in_apple_charts', 'in_deezer_charts', 'in_shazam_charts']]\n",
    "charts_df = charts_df.assign(chart_id=range(len(charts_df)))\n",
    "\n",
    "charts_df = charts_df.sort_values('chart_id')\n",
    "charts_df.set_index(\"chart_id\")"
   ]
  },
  {
   "cell_type": "code",
   "execution_count": null,
   "metadata": {},
   "outputs": [],
   "source": [
    "charts_df.dtypes\n",
    "charts_df.to_csv(\"../Outputs/charts_df.csv\")"
   ]
  },
  {
   "cell_type": "code",
   "execution_count": null,
   "metadata": {},
   "outputs": [],
   "source": [
    "playlist_df = spotify_df[['track', 'in_spotify_playlists', 'in_apple_playlists', 'in_deezer_playlists']]\n",
    "playlist_df = playlist_df.assign(playlist_id=range(len(playlist_df)))\n",
    "playlist_df.set_index(\"playlist_id\")"
   ]
  },
  {
   "cell_type": "code",
   "execution_count": null,
   "metadata": {},
   "outputs": [],
   "source": [
    "playlist_df.dtypes\n",
    "playlist_df.to_csv(\"../Outputs/playlist_df.csv\")"
   ]
  }
 ],
 "metadata": {
  "kernelspec": {
   "display_name": "dev",
   "language": "python",
   "name": "python3"
  },
  "language_info": {
   "codemirror_mode": {
    "name": "ipython",
    "version": 3
   },
   "file_extension": ".py",
   "mimetype": "text/x-python",
   "name": "python",
   "nbconvert_exporter": "python",
   "pygments_lexer": "ipython3",
   "version": "3.10.13"
  }
 },
 "nbformat": 4,
 "nbformat_minor": 2
}
