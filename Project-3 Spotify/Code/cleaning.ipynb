{
 "cells": [
  {
   "cell_type": "code",
   "execution_count": null,
   "metadata": {},
   "outputs": [],
   "source": [
    "#importing dependecies\n",
    "import pandas as pd\n",
    "import janitor\n",
    "import datetime as dt\n",
    "\n",
    "# creating the dataframe with pyjanitor\n",
    "spotify_df = (\n",
    "    # reading data into dataframe\n",
    "    pd.read_csv(\"../Resources/Popular_Spotify_Songs.csv\", encoding='latin 1')\n",
    "\n",
    "    # dropping rows with na values\n",
    "    .dropna()\n",
    "\n",
    "    # renaming columns\n",
    "    .rename_column(\"track_name\", \"track\")\n",
    "    .rename_column(\"artist(s)_name\", \"artists\")\n",
    ")\n",
    "\n",
    "spotify_df"
   ]
  },
  {
   "cell_type": "code",
   "execution_count": null,
   "metadata": {},
   "outputs": [],
   "source": [
    "# combining year, month, and day into a single column\n",
    "spotify_df['date'] = pd.to_datetime(dict(year=spotify_df[\"released_year\"], month=spotify_df[\"released_month\"], day=spotify_df[\"released_day\"]))\n",
    "\n",
    "# dropping the old date columns\n",
    "spotify_df = spotify_df.drop(columns=[\"released_year\", \"released_month\", \"released_day\"])"
   ]
  },
  {
   "cell_type": "code",
   "execution_count": null,
   "metadata": {},
   "outputs": [],
   "source": [
    "# viewing current columns\n",
    "spotify_df.columns"
   ]
  },
  {
   "cell_type": "code",
   "execution_count": null,
   "metadata": {},
   "outputs": [],
   "source": [
    "# checking summary statistics\n",
    "spotify_df.describe()"
   ]
  },
  {
   "cell_type": "code",
   "execution_count": null,
   "metadata": {},
   "outputs": [],
   "source": [
    "# sorting by number of streams\n",
    "spofity_df = spotify_df.sort_values(\"streams\")\n",
    "spotify_df"
   ]
  },
  {
   "cell_type": "code",
   "execution_count": null,
   "metadata": {},
   "outputs": [],
   "source": []
  }
 ],
 "metadata": {
  "kernelspec": {
   "display_name": "dev",
   "language": "python",
   "name": "python3"
  },
  "language_info": {
   "codemirror_mode": {
    "name": "ipython",
    "version": 3
   },
   "file_extension": ".py",
   "mimetype": "text/x-python",
   "name": "python",
   "nbconvert_exporter": "python",
   "pygments_lexer": "ipython3",
   "version": "3.10.13"
  }
 },
 "nbformat": 4,
 "nbformat_minor": 2
}
