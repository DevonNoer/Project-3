{
 "cells": [
  {
   "cell_type": "code",
   "execution_count": null,
   "metadata": {},
   "outputs": [],
   "source": [
    "#importing dependecies\n",
    "import pandas as pd\n",
    "import janitor\n",
    "import datetime as dt\n",
    "import numpy as np\n",
    "\n",
    "# creating the dataframe with pyjanitor\n",
    "spotify_df = (\n",
    "    # reading data into dataframe\n",
    "    pd.read_csv(\"../Resources/Popular_Spotify_Songs.csv\", encoding='latin 1')\n",
    "\n",
    "    # dropping rows with na values\n",
    "    .dropna()\n",
    "\n",
    "    # renaming columns\n",
    "    .rename_column(\"track_name\", \"track\")\n",
    "    .rename_column(\"artist(s)_name\", \"artists\")\n",
    ")\n",
    "\n",
    "spotify_df"
   ]
  },
  {
   "cell_type": "code",
   "execution_count": null,
   "metadata": {},
   "outputs": [],
   "source": [
    "# combining year, month, and day into a single column\n",
    "spotify_df['date'] = pd.to_datetime(dict(year=spotify_df[\"released_year\"], month=spotify_df[\"released_month\"], day=spotify_df[\"released_day\"]))\n",
    "\n",
    "# dropping the old date columns\n",
    "spotify_df = spotify_df.drop(columns=[\"released_year\", \"released_month\", \"released_day\"])"
   ]
  },
  {
   "cell_type": "code",
   "execution_count": null,
   "metadata": {},
   "outputs": [],
   "source": [
    "# viewing current columns\n",
    "spotify_df.columns"
   ]
  },
  {
   "cell_type": "code",
   "execution_count": null,
   "metadata": {},
   "outputs": [],
   "source": [
    "# checking summary statistics\n",
    "spotify_df.describe()"
   ]
  },
  {
   "cell_type": "code",
   "execution_count": null,
   "metadata": {},
   "outputs": [],
   "source": [
    "# sorting by number of streams\n",
    "spofity_df = spotify_df.sort_values(\"streams\")\n",
    "spotify_df"
   ]
  },
  {
   "cell_type": "code",
   "execution_count": null,
   "metadata": {},
   "outputs": [],
   "source": [
    "# artists table\n",
    "artists_df = spotify_df[['track', 'artists', 'artist_count', 'streams']]\n",
    "artists_df = artists_df.assign(track_id=range(len(artists_df)))\n",
    "\n",
    "artists_df = artists_df[[\"track_id\", 'track', 'artists', 'artist_count', 'streams']]\n",
    "artists_df\n",
    "\n",
    "artists_df.to_csv(\"../Outputs/artists_df.csv\", index=False)\n",
    "artists_df.dtypes"
   ]
  },
  {
   "cell_type": "code",
   "execution_count": null,
   "metadata": {},
   "outputs": [],
   "source": [
    "# date table\n",
    "date_df = spotify_df[['track', 'date']]\n",
    "date_df = date_df.assign(date_id=range(len(date_df)))\n",
    "date_df = date_df.assign(track_id=range(len(date_df)))\n",
    "\n",
    "date_df = date_df[[\"date_id\", \"track_id\", \"date\"]]\n",
    "date_df\n",
    "date_df.to_csv(\"../Outputs/date_df.csv\", index=False)"
   ]
  },
  {
   "cell_type": "code",
   "execution_count": null,
   "metadata": {},
   "outputs": [],
   "source": [
    "# music characteristics table\n",
    "music_df = spotify_df[['track', 'bpm', 'mode', 'key', 'danceability_%', 'valence_%', 'energy_%', 'acousticness_%', 'liveness_%', 'speechiness_%']]\n",
    "music_df = music_df.assign(music_id=range(len(music_df)))\n",
    "music_df = music_df.assign(track_id=range(len(music_df)))\n",
    "\n",
    "music_df = music_df[[\"music_id\", 'track_id', 'bpm', 'mode', 'key', 'danceability_%', 'valence_%', 'energy_%', 'acousticness_%', 'liveness_%', 'speechiness_%']]\n",
    "music_df\n",
    "\n",
    "music_df.to_csv(\"../Outputs/music_char.csv\", index=False)"
   ]
  },
  {
   "cell_type": "code",
   "execution_count": null,
   "metadata": {},
   "outputs": [],
   "source": [
    "#charts table\n",
    "charts_df = spotify_df[['track', 'in_spotify_charts', 'in_apple_charts', 'in_deezer_charts', 'in_shazam_charts']]\n",
    "charts_df = charts_df.assign(chart_id=range(len(charts_df)))\n",
    "charts_df = charts_df.assign(track_id=range(len(charts_df)))\n",
    "\n",
    "charts_df = charts_df[['chart_id', 'track_id', 'in_spotify_charts', 'in_apple_charts', 'in_deezer_charts', 'in_shazam_charts']]\n",
    "#removing commas from numbers\n",
    "charts_df['in_shazam_charts'] = charts_df['in_shazam_charts'].str.replace(',', '').astype(int)\n",
    "charts_df"
   ]
  },
  {
   "cell_type": "code",
   "execution_count": null,
   "metadata": {},
   "outputs": [],
   "source": [
    "#exporting csv\n",
    "charts_df.dtypes\n",
    "charts_df.to_csv(\"../Outputs/charts_df.csv\", index=False)"
   ]
  },
  {
   "cell_type": "code",
   "execution_count": null,
   "metadata": {},
   "outputs": [],
   "source": [
    "#creating playlist data frame\n",
    "playlist_df = spotify_df[['track', 'in_spotify_playlists', 'in_apple_playlists', 'in_deezer_playlists']]\n",
    "playlist_df = playlist_df.assign(playlist_id=range(len(playlist_df)))\n",
    "playlist_df = playlist_df.assign(track_id=range(len(playlist_df)))\n",
    "\n",
    "playlist_df = playlist_df[['playlist_id', 'track_id', 'in_spotify_playlists', 'in_apple_playlists', 'in_deezer_playlists']]\n",
    "#removing commas from column\n",
    "playlist_df['in_deezer_playlists'] = playlist_df['in_deezer_playlists'].str.replace(',', '').astype(int)\n",
    "playlist_df\n"
   ]
  },
  {
   "cell_type": "code",
   "execution_count": null,
   "metadata": {},
   "outputs": [],
   "source": [
    "#exporting as a csv\n",
    "playlist_df.to_csv(\"../Outputs/playlist_df.csv\", index=False)\n",
    "playlist_df.dtypes"
   ]
  }
 ],
 "metadata": {
  "kernelspec": {
   "display_name": "dev",
   "language": "python",
   "name": "python3"
  },
  "language_info": {
   "codemirror_mode": {
    "name": "ipython",
    "version": 3
   },
   "file_extension": ".py",
   "mimetype": "text/x-python",
   "name": "python",
   "nbconvert_exporter": "python",
   "pygments_lexer": "ipython3",
   "version": "3.11.7"
  }
 },
 "nbformat": 4,
 "nbformat_minor": 2
}
